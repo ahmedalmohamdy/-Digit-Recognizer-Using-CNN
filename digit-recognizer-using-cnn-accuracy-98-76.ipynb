{
 "cells": [
  {
   "cell_type": "markdown",
   "id": "92ad995d",
   "metadata": {
    "papermill": {
     "duration": 0.013395,
     "end_time": "2024-10-12T00:43:20.123411",
     "exception": false,
     "start_time": "2024-10-12T00:43:20.110016",
     "status": "completed"
    },
    "tags": []
   },
   "source": [
    "<div style=\"background-color: Black;  padding: 10px; border-radius: 10px; text-align: center;\">\n",
    "  <span style=\"color: white; font-size: 35px; font-weight: bold;\">\n",
    "      Digit Recognizer Using CNN - Accuracy 98.76 %\n",
    "</div>\n"
   ]
  },
  {
   "cell_type": "markdown",
   "id": "528e3e04",
   "metadata": {
    "_cell_guid": "d4c08f48-fe23-4ddb-ac46-d97f05397514",
    "_uuid": "f2156d1dd26a1243e18512002e10872c5bd7271e",
    "papermill": {
     "duration": 0.012167,
     "end_time": "2024-10-12T00:43:20.149574",
     "exception": false,
     "start_time": "2024-10-12T00:43:20.137407",
     "status": "completed"
    },
    "tags": []
   },
   "source": [
    "## **By/Eng.Ahmed Almohamdy**\n",
    "\n",
    "orignal Notebook link : https://www.kaggle.com/code/ahmedalmohamdy/digit-recognizer-using-cnn-accuracy-98-76\n",
    "\n",
    "* **1. Data preparation**\n",
    "    * 1.1 Load data\n",
    "    * 1.2 Check for null and missing values\n",
    "    * 1.3 Normalization\n",
    "    * 1.4 Reshape\n",
    "    * 1.5 Label encoding\n",
    "    * 1.6 Split training and valdiation set\n",
    "* **2. CNN**\n",
    "    * 2.1 Define the model\n",
    "    * 2.2 Set the optimizer\n",
    "    * 2.3 Data Augmentation\n",
    "* **3. Evaluate the model**\n",
    "    * 3.1 Training and validation curves\n",
    "    * 3.2 Confusion matrix\n",
    "* **4.Prediction and submition**\n",
    "    * 4.1 Predict and Submit results"
   ]
  },
  {
   "cell_type": "markdown",
   "id": "8d861c76",
   "metadata": {
    "papermill": {
     "duration": 0.01208,
     "end_time": "2024-10-12T00:43:20.174129",
     "exception": false,
     "start_time": "2024-10-12T00:43:20.162049",
     "status": "completed"
    },
    "tags": []
   },
   "source": [
    "<div style=\"background-color: Green;  padding: 10px; border-radius: 10px; text-align: center;\">\n",
    "  <span style=\"color: white; font-size: 15px; font-weight: bold;\">\n",
    "      Importing\n",
    "</div>\n"
   ]
  },
  {
   "cell_type": "code",
   "execution_count": 1,
   "id": "6c60ad6c",
   "metadata": {
    "_cell_guid": "f67b9393-8ea1-4e23-b856-2ce149cfe421",
    "_execution_state": "idle",
    "_uuid": "72334cb006d02a4bcfc2a2fe622524eba824c6f8",
    "execution": {
     "iopub.execute_input": "2024-10-12T00:43:20.200170Z",
     "iopub.status.busy": "2024-10-12T00:43:20.199752Z",
     "iopub.status.idle": "2024-10-12T00:43:36.474520Z",
     "shell.execute_reply": "2024-10-12T00:43:36.473386Z"
    },
    "papermill": {
     "duration": 16.291045,
     "end_time": "2024-10-12T00:43:36.477288",
     "exception": false,
     "start_time": "2024-10-12T00:43:20.186243",
     "status": "completed"
    },
    "tags": []
   },
   "outputs": [],
   "source": [
    "import pandas as pd\n",
    "import numpy as np\n",
    "import matplotlib.pyplot as plt\n",
    "import matplotlib.image as mpimg\n",
    "import seaborn as sns\n",
    "%matplotlib inline\n",
    "\n",
    "np.random.seed(3)  # To Produce same random values each run Time\n",
    "\n",
    "from sklearn.model_selection import train_test_split\n",
    "from sklearn.metrics import confusion_matrix\n",
    "import itertools\n",
    "\n",
    "from keras.utils import to_categorical # convert to one-hot-encoding\n",
    "from keras.models import Sequential\n",
    "from keras.layers import Dense, Dropout, Flatten, Conv2D, MaxPool2D , BatchNormalization\n",
    "from keras.optimizers import RMSprop\n",
    "from tensorflow.keras.preprocessing.image import ImageDataGenerator\n",
    "from keras.callbacks import ReduceLROnPlateau\n",
    "\n",
    "\n",
    "sns.set(style='white', context='notebook', palette='deep')"
   ]
  },
  {
   "cell_type": "markdown",
   "id": "db8c3bc2",
   "metadata": {
    "papermill": {
     "duration": 0.012133,
     "end_time": "2024-10-12T00:43:36.502095",
     "exception": false,
     "start_time": "2024-10-12T00:43:36.489962",
     "status": "completed"
    },
    "tags": []
   },
   "source": [
    "<div style=\"background-color: Green;  padding: 10px; border-radius: 10px; text-align: center;\">\n",
    "  <span style=\"color: white; font-size: 15px; font-weight: bold;\">\n",
    "      Data Preparation\n",
    "</div>\n"
   ]
  },
  {
   "cell_type": "markdown",
   "id": "ea8c239d",
   "metadata": {
    "_cell_guid": "6d2fb3e6-ab71-4974-b5a2-4af1ebdb99f4",
    "_execution_state": "idle",
    "_uuid": "86061d98eccaa02efe0dab0fa3884e71fcf4c310",
    "papermill": {
     "duration": 0.012084,
     "end_time": "2024-10-12T00:43:36.526148",
     "exception": false,
     "start_time": "2024-10-12T00:43:36.514064",
     "status": "completed"
    },
    "tags": []
   },
   "source": [
    "# 1. Data preparation\n",
    "## 1.1 Load data"
   ]
  },
  {
   "cell_type": "code",
   "execution_count": 2,
   "id": "570a139b",
   "metadata": {
    "_cell_guid": "5e51d00e-62fd-4141-bf73-50ac4f2da7d0",
    "_execution_state": "idle",
    "_uuid": "84bbd5ab8d7895bd430d5ecfe2f7ddf77baa7b74",
    "execution": {
     "iopub.execute_input": "2024-10-12T00:43:36.552567Z",
     "iopub.status.busy": "2024-10-12T00:43:36.551939Z",
     "iopub.status.idle": "2024-10-12T00:43:42.956751Z",
     "shell.execute_reply": "2024-10-12T00:43:42.955700Z"
    },
    "papermill": {
     "duration": 6.421017,
     "end_time": "2024-10-12T00:43:42.959273",
     "exception": false,
     "start_time": "2024-10-12T00:43:36.538256",
     "status": "completed"
    },
    "tags": []
   },
   "outputs": [],
   "source": [
    "# Load the data\n",
    "train = pd.read_csv(\"/kaggle/input/digit-recognizer/train.csv\")\n",
    "test = pd.read_csv(\"/kaggle/input/digit-recognizer/test.csv\")"
   ]
  },
  {
   "cell_type": "code",
   "execution_count": 3,
   "id": "404d13b8",
   "metadata": {
    "execution": {
     "iopub.execute_input": "2024-10-12T00:43:42.985647Z",
     "iopub.status.busy": "2024-10-12T00:43:42.985173Z",
     "iopub.status.idle": "2024-10-12T00:43:42.992799Z",
     "shell.execute_reply": "2024-10-12T00:43:42.991776Z"
    },
    "papermill": {
     "duration": 0.023322,
     "end_time": "2024-10-12T00:43:42.995181",
     "exception": false,
     "start_time": "2024-10-12T00:43:42.971859",
     "status": "completed"
    },
    "tags": []
   },
   "outputs": [
    {
     "data": {
      "text/plain": [
       "(42000, 785)"
      ]
     },
     "execution_count": 3,
     "metadata": {},
     "output_type": "execute_result"
    }
   ],
   "source": [
    "train.shape"
   ]
  },
  {
   "cell_type": "code",
   "execution_count": 4,
   "id": "51430deb",
   "metadata": {
    "execution": {
     "iopub.execute_input": "2024-10-12T00:43:43.021989Z",
     "iopub.status.busy": "2024-10-12T00:43:43.021588Z",
     "iopub.status.idle": "2024-10-12T00:43:43.047282Z",
     "shell.execute_reply": "2024-10-12T00:43:43.046265Z"
    },
    "papermill": {
     "duration": 0.041441,
     "end_time": "2024-10-12T00:43:43.049568",
     "exception": false,
     "start_time": "2024-10-12T00:43:43.008127",
     "status": "completed"
    },
    "tags": []
   },
   "outputs": [
    {
     "data": {
      "text/html": [
       "<div>\n",
       "<style scoped>\n",
       "    .dataframe tbody tr th:only-of-type {\n",
       "        vertical-align: middle;\n",
       "    }\n",
       "\n",
       "    .dataframe tbody tr th {\n",
       "        vertical-align: top;\n",
       "    }\n",
       "\n",
       "    .dataframe thead th {\n",
       "        text-align: right;\n",
       "    }\n",
       "</style>\n",
       "<table border=\"1\" class=\"dataframe\">\n",
       "  <thead>\n",
       "    <tr style=\"text-align: right;\">\n",
       "      <th></th>\n",
       "      <th>label</th>\n",
       "      <th>pixel0</th>\n",
       "      <th>pixel1</th>\n",
       "      <th>pixel2</th>\n",
       "      <th>pixel3</th>\n",
       "      <th>pixel4</th>\n",
       "      <th>pixel5</th>\n",
       "      <th>pixel6</th>\n",
       "      <th>pixel7</th>\n",
       "      <th>pixel8</th>\n",
       "      <th>...</th>\n",
       "      <th>pixel774</th>\n",
       "      <th>pixel775</th>\n",
       "      <th>pixel776</th>\n",
       "      <th>pixel777</th>\n",
       "      <th>pixel778</th>\n",
       "      <th>pixel779</th>\n",
       "      <th>pixel780</th>\n",
       "      <th>pixel781</th>\n",
       "      <th>pixel782</th>\n",
       "      <th>pixel783</th>\n",
       "    </tr>\n",
       "  </thead>\n",
       "  <tbody>\n",
       "    <tr>\n",
       "      <th>0</th>\n",
       "      <td>1</td>\n",
       "      <td>0</td>\n",
       "      <td>0</td>\n",
       "      <td>0</td>\n",
       "      <td>0</td>\n",
       "      <td>0</td>\n",
       "      <td>0</td>\n",
       "      <td>0</td>\n",
       "      <td>0</td>\n",
       "      <td>0</td>\n",
       "      <td>...</td>\n",
       "      <td>0</td>\n",
       "      <td>0</td>\n",
       "      <td>0</td>\n",
       "      <td>0</td>\n",
       "      <td>0</td>\n",
       "      <td>0</td>\n",
       "      <td>0</td>\n",
       "      <td>0</td>\n",
       "      <td>0</td>\n",
       "      <td>0</td>\n",
       "    </tr>\n",
       "    <tr>\n",
       "      <th>1</th>\n",
       "      <td>0</td>\n",
       "      <td>0</td>\n",
       "      <td>0</td>\n",
       "      <td>0</td>\n",
       "      <td>0</td>\n",
       "      <td>0</td>\n",
       "      <td>0</td>\n",
       "      <td>0</td>\n",
       "      <td>0</td>\n",
       "      <td>0</td>\n",
       "      <td>...</td>\n",
       "      <td>0</td>\n",
       "      <td>0</td>\n",
       "      <td>0</td>\n",
       "      <td>0</td>\n",
       "      <td>0</td>\n",
       "      <td>0</td>\n",
       "      <td>0</td>\n",
       "      <td>0</td>\n",
       "      <td>0</td>\n",
       "      <td>0</td>\n",
       "    </tr>\n",
       "    <tr>\n",
       "      <th>2</th>\n",
       "      <td>1</td>\n",
       "      <td>0</td>\n",
       "      <td>0</td>\n",
       "      <td>0</td>\n",
       "      <td>0</td>\n",
       "      <td>0</td>\n",
       "      <td>0</td>\n",
       "      <td>0</td>\n",
       "      <td>0</td>\n",
       "      <td>0</td>\n",
       "      <td>...</td>\n",
       "      <td>0</td>\n",
       "      <td>0</td>\n",
       "      <td>0</td>\n",
       "      <td>0</td>\n",
       "      <td>0</td>\n",
       "      <td>0</td>\n",
       "      <td>0</td>\n",
       "      <td>0</td>\n",
       "      <td>0</td>\n",
       "      <td>0</td>\n",
       "    </tr>\n",
       "    <tr>\n",
       "      <th>3</th>\n",
       "      <td>4</td>\n",
       "      <td>0</td>\n",
       "      <td>0</td>\n",
       "      <td>0</td>\n",
       "      <td>0</td>\n",
       "      <td>0</td>\n",
       "      <td>0</td>\n",
       "      <td>0</td>\n",
       "      <td>0</td>\n",
       "      <td>0</td>\n",
       "      <td>...</td>\n",
       "      <td>0</td>\n",
       "      <td>0</td>\n",
       "      <td>0</td>\n",
       "      <td>0</td>\n",
       "      <td>0</td>\n",
       "      <td>0</td>\n",
       "      <td>0</td>\n",
       "      <td>0</td>\n",
       "      <td>0</td>\n",
       "      <td>0</td>\n",
       "    </tr>\n",
       "    <tr>\n",
       "      <th>4</th>\n",
       "      <td>0</td>\n",
       "      <td>0</td>\n",
       "      <td>0</td>\n",
       "      <td>0</td>\n",
       "      <td>0</td>\n",
       "      <td>0</td>\n",
       "      <td>0</td>\n",
       "      <td>0</td>\n",
       "      <td>0</td>\n",
       "      <td>0</td>\n",
       "      <td>...</td>\n",
       "      <td>0</td>\n",
       "      <td>0</td>\n",
       "      <td>0</td>\n",
       "      <td>0</td>\n",
       "      <td>0</td>\n",
       "      <td>0</td>\n",
       "      <td>0</td>\n",
       "      <td>0</td>\n",
       "      <td>0</td>\n",
       "      <td>0</td>\n",
       "    </tr>\n",
       "  </tbody>\n",
       "</table>\n",
       "<p>5 rows × 785 columns</p>\n",
       "</div>"
      ],
      "text/plain": [
       "   label  pixel0  pixel1  pixel2  pixel3  pixel4  pixel5  pixel6  pixel7  \\\n",
       "0      1       0       0       0       0       0       0       0       0   \n",
       "1      0       0       0       0       0       0       0       0       0   \n",
       "2      1       0       0       0       0       0       0       0       0   \n",
       "3      4       0       0       0       0       0       0       0       0   \n",
       "4      0       0       0       0       0       0       0       0       0   \n",
       "\n",
       "   pixel8  ...  pixel774  pixel775  pixel776  pixel777  pixel778  pixel779  \\\n",
       "0       0  ...         0         0         0         0         0         0   \n",
       "1       0  ...         0         0         0         0         0         0   \n",
       "2       0  ...         0         0         0         0         0         0   \n",
       "3       0  ...         0         0         0         0         0         0   \n",
       "4       0  ...         0         0         0         0         0         0   \n",
       "\n",
       "   pixel780  pixel781  pixel782  pixel783  \n",
       "0         0         0         0         0  \n",
       "1         0         0         0         0  \n",
       "2         0         0         0         0  \n",
       "3         0         0         0         0  \n",
       "4         0         0         0         0  \n",
       "\n",
       "[5 rows x 785 columns]"
      ]
     },
     "execution_count": 4,
     "metadata": {},
     "output_type": "execute_result"
    }
   ],
   "source": [
    "train.head()"
   ]
  },
  {
   "cell_type": "code",
   "execution_count": 5,
   "id": "999a99af",
   "metadata": {
    "execution": {
     "iopub.execute_input": "2024-10-12T00:43:43.078120Z",
     "iopub.status.busy": "2024-10-12T00:43:43.077693Z",
     "iopub.status.idle": "2024-10-12T00:43:45.256113Z",
     "shell.execute_reply": "2024-10-12T00:43:45.254998Z"
    },
    "papermill": {
     "duration": 2.194842,
     "end_time": "2024-10-12T00:43:45.258405",
     "exception": false,
     "start_time": "2024-10-12T00:43:43.063563",
     "status": "completed"
    },
    "tags": []
   },
   "outputs": [
    {
     "data": {
      "text/html": [
       "<div>\n",
       "<style scoped>\n",
       "    .dataframe tbody tr th:only-of-type {\n",
       "        vertical-align: middle;\n",
       "    }\n",
       "\n",
       "    .dataframe tbody tr th {\n",
       "        vertical-align: top;\n",
       "    }\n",
       "\n",
       "    .dataframe thead th {\n",
       "        text-align: right;\n",
       "    }\n",
       "</style>\n",
       "<table border=\"1\" class=\"dataframe\">\n",
       "  <thead>\n",
       "    <tr style=\"text-align: right;\">\n",
       "      <th></th>\n",
       "      <th>label</th>\n",
       "      <th>pixel0</th>\n",
       "      <th>pixel1</th>\n",
       "      <th>pixel2</th>\n",
       "      <th>pixel3</th>\n",
       "      <th>pixel4</th>\n",
       "      <th>pixel5</th>\n",
       "      <th>pixel6</th>\n",
       "      <th>pixel7</th>\n",
       "      <th>pixel8</th>\n",
       "      <th>...</th>\n",
       "      <th>pixel774</th>\n",
       "      <th>pixel775</th>\n",
       "      <th>pixel776</th>\n",
       "      <th>pixel777</th>\n",
       "      <th>pixel778</th>\n",
       "      <th>pixel779</th>\n",
       "      <th>pixel780</th>\n",
       "      <th>pixel781</th>\n",
       "      <th>pixel782</th>\n",
       "      <th>pixel783</th>\n",
       "    </tr>\n",
       "  </thead>\n",
       "  <tbody>\n",
       "    <tr>\n",
       "      <th>count</th>\n",
       "      <td>42000.000000</td>\n",
       "      <td>42000.0</td>\n",
       "      <td>42000.0</td>\n",
       "      <td>42000.0</td>\n",
       "      <td>42000.0</td>\n",
       "      <td>42000.0</td>\n",
       "      <td>42000.0</td>\n",
       "      <td>42000.0</td>\n",
       "      <td>42000.0</td>\n",
       "      <td>42000.0</td>\n",
       "      <td>...</td>\n",
       "      <td>42000.000000</td>\n",
       "      <td>42000.000000</td>\n",
       "      <td>42000.000000</td>\n",
       "      <td>42000.00000</td>\n",
       "      <td>42000.000000</td>\n",
       "      <td>42000.000000</td>\n",
       "      <td>42000.0</td>\n",
       "      <td>42000.0</td>\n",
       "      <td>42000.0</td>\n",
       "      <td>42000.0</td>\n",
       "    </tr>\n",
       "    <tr>\n",
       "      <th>mean</th>\n",
       "      <td>4.456643</td>\n",
       "      <td>0.0</td>\n",
       "      <td>0.0</td>\n",
       "      <td>0.0</td>\n",
       "      <td>0.0</td>\n",
       "      <td>0.0</td>\n",
       "      <td>0.0</td>\n",
       "      <td>0.0</td>\n",
       "      <td>0.0</td>\n",
       "      <td>0.0</td>\n",
       "      <td>...</td>\n",
       "      <td>0.219286</td>\n",
       "      <td>0.117095</td>\n",
       "      <td>0.059024</td>\n",
       "      <td>0.02019</td>\n",
       "      <td>0.017238</td>\n",
       "      <td>0.002857</td>\n",
       "      <td>0.0</td>\n",
       "      <td>0.0</td>\n",
       "      <td>0.0</td>\n",
       "      <td>0.0</td>\n",
       "    </tr>\n",
       "    <tr>\n",
       "      <th>std</th>\n",
       "      <td>2.887730</td>\n",
       "      <td>0.0</td>\n",
       "      <td>0.0</td>\n",
       "      <td>0.0</td>\n",
       "      <td>0.0</td>\n",
       "      <td>0.0</td>\n",
       "      <td>0.0</td>\n",
       "      <td>0.0</td>\n",
       "      <td>0.0</td>\n",
       "      <td>0.0</td>\n",
       "      <td>...</td>\n",
       "      <td>6.312890</td>\n",
       "      <td>4.633819</td>\n",
       "      <td>3.274488</td>\n",
       "      <td>1.75987</td>\n",
       "      <td>1.894498</td>\n",
       "      <td>0.414264</td>\n",
       "      <td>0.0</td>\n",
       "      <td>0.0</td>\n",
       "      <td>0.0</td>\n",
       "      <td>0.0</td>\n",
       "    </tr>\n",
       "    <tr>\n",
       "      <th>min</th>\n",
       "      <td>0.000000</td>\n",
       "      <td>0.0</td>\n",
       "      <td>0.0</td>\n",
       "      <td>0.0</td>\n",
       "      <td>0.0</td>\n",
       "      <td>0.0</td>\n",
       "      <td>0.0</td>\n",
       "      <td>0.0</td>\n",
       "      <td>0.0</td>\n",
       "      <td>0.0</td>\n",
       "      <td>...</td>\n",
       "      <td>0.000000</td>\n",
       "      <td>0.000000</td>\n",
       "      <td>0.000000</td>\n",
       "      <td>0.00000</td>\n",
       "      <td>0.000000</td>\n",
       "      <td>0.000000</td>\n",
       "      <td>0.0</td>\n",
       "      <td>0.0</td>\n",
       "      <td>0.0</td>\n",
       "      <td>0.0</td>\n",
       "    </tr>\n",
       "    <tr>\n",
       "      <th>25%</th>\n",
       "      <td>2.000000</td>\n",
       "      <td>0.0</td>\n",
       "      <td>0.0</td>\n",
       "      <td>0.0</td>\n",
       "      <td>0.0</td>\n",
       "      <td>0.0</td>\n",
       "      <td>0.0</td>\n",
       "      <td>0.0</td>\n",
       "      <td>0.0</td>\n",
       "      <td>0.0</td>\n",
       "      <td>...</td>\n",
       "      <td>0.000000</td>\n",
       "      <td>0.000000</td>\n",
       "      <td>0.000000</td>\n",
       "      <td>0.00000</td>\n",
       "      <td>0.000000</td>\n",
       "      <td>0.000000</td>\n",
       "      <td>0.0</td>\n",
       "      <td>0.0</td>\n",
       "      <td>0.0</td>\n",
       "      <td>0.0</td>\n",
       "    </tr>\n",
       "    <tr>\n",
       "      <th>50%</th>\n",
       "      <td>4.000000</td>\n",
       "      <td>0.0</td>\n",
       "      <td>0.0</td>\n",
       "      <td>0.0</td>\n",
       "      <td>0.0</td>\n",
       "      <td>0.0</td>\n",
       "      <td>0.0</td>\n",
       "      <td>0.0</td>\n",
       "      <td>0.0</td>\n",
       "      <td>0.0</td>\n",
       "      <td>...</td>\n",
       "      <td>0.000000</td>\n",
       "      <td>0.000000</td>\n",
       "      <td>0.000000</td>\n",
       "      <td>0.00000</td>\n",
       "      <td>0.000000</td>\n",
       "      <td>0.000000</td>\n",
       "      <td>0.0</td>\n",
       "      <td>0.0</td>\n",
       "      <td>0.0</td>\n",
       "      <td>0.0</td>\n",
       "    </tr>\n",
       "    <tr>\n",
       "      <th>75%</th>\n",
       "      <td>7.000000</td>\n",
       "      <td>0.0</td>\n",
       "      <td>0.0</td>\n",
       "      <td>0.0</td>\n",
       "      <td>0.0</td>\n",
       "      <td>0.0</td>\n",
       "      <td>0.0</td>\n",
       "      <td>0.0</td>\n",
       "      <td>0.0</td>\n",
       "      <td>0.0</td>\n",
       "      <td>...</td>\n",
       "      <td>0.000000</td>\n",
       "      <td>0.000000</td>\n",
       "      <td>0.000000</td>\n",
       "      <td>0.00000</td>\n",
       "      <td>0.000000</td>\n",
       "      <td>0.000000</td>\n",
       "      <td>0.0</td>\n",
       "      <td>0.0</td>\n",
       "      <td>0.0</td>\n",
       "      <td>0.0</td>\n",
       "    </tr>\n",
       "    <tr>\n",
       "      <th>max</th>\n",
       "      <td>9.000000</td>\n",
       "      <td>0.0</td>\n",
       "      <td>0.0</td>\n",
       "      <td>0.0</td>\n",
       "      <td>0.0</td>\n",
       "      <td>0.0</td>\n",
       "      <td>0.0</td>\n",
       "      <td>0.0</td>\n",
       "      <td>0.0</td>\n",
       "      <td>0.0</td>\n",
       "      <td>...</td>\n",
       "      <td>254.000000</td>\n",
       "      <td>254.000000</td>\n",
       "      <td>253.000000</td>\n",
       "      <td>253.00000</td>\n",
       "      <td>254.000000</td>\n",
       "      <td>62.000000</td>\n",
       "      <td>0.0</td>\n",
       "      <td>0.0</td>\n",
       "      <td>0.0</td>\n",
       "      <td>0.0</td>\n",
       "    </tr>\n",
       "  </tbody>\n",
       "</table>\n",
       "<p>8 rows × 785 columns</p>\n",
       "</div>"
      ],
      "text/plain": [
       "              label   pixel0   pixel1   pixel2   pixel3   pixel4   pixel5  \\\n",
       "count  42000.000000  42000.0  42000.0  42000.0  42000.0  42000.0  42000.0   \n",
       "mean       4.456643      0.0      0.0      0.0      0.0      0.0      0.0   \n",
       "std        2.887730      0.0      0.0      0.0      0.0      0.0      0.0   \n",
       "min        0.000000      0.0      0.0      0.0      0.0      0.0      0.0   \n",
       "25%        2.000000      0.0      0.0      0.0      0.0      0.0      0.0   \n",
       "50%        4.000000      0.0      0.0      0.0      0.0      0.0      0.0   \n",
       "75%        7.000000      0.0      0.0      0.0      0.0      0.0      0.0   \n",
       "max        9.000000      0.0      0.0      0.0      0.0      0.0      0.0   \n",
       "\n",
       "        pixel6   pixel7   pixel8  ...      pixel774      pixel775  \\\n",
       "count  42000.0  42000.0  42000.0  ...  42000.000000  42000.000000   \n",
       "mean       0.0      0.0      0.0  ...      0.219286      0.117095   \n",
       "std        0.0      0.0      0.0  ...      6.312890      4.633819   \n",
       "min        0.0      0.0      0.0  ...      0.000000      0.000000   \n",
       "25%        0.0      0.0      0.0  ...      0.000000      0.000000   \n",
       "50%        0.0      0.0      0.0  ...      0.000000      0.000000   \n",
       "75%        0.0      0.0      0.0  ...      0.000000      0.000000   \n",
       "max        0.0      0.0      0.0  ...    254.000000    254.000000   \n",
       "\n",
       "           pixel776     pixel777      pixel778      pixel779  pixel780  \\\n",
       "count  42000.000000  42000.00000  42000.000000  42000.000000   42000.0   \n",
       "mean       0.059024      0.02019      0.017238      0.002857       0.0   \n",
       "std        3.274488      1.75987      1.894498      0.414264       0.0   \n",
       "min        0.000000      0.00000      0.000000      0.000000       0.0   \n",
       "25%        0.000000      0.00000      0.000000      0.000000       0.0   \n",
       "50%        0.000000      0.00000      0.000000      0.000000       0.0   \n",
       "75%        0.000000      0.00000      0.000000      0.000000       0.0   \n",
       "max      253.000000    253.00000    254.000000     62.000000       0.0   \n",
       "\n",
       "       pixel781  pixel782  pixel783  \n",
       "count   42000.0   42000.0   42000.0  \n",
       "mean        0.0       0.0       0.0  \n",
       "std         0.0       0.0       0.0  \n",
       "min         0.0       0.0       0.0  \n",
       "25%         0.0       0.0       0.0  \n",
       "50%         0.0       0.0       0.0  \n",
       "75%         0.0       0.0       0.0  \n",
       "max         0.0       0.0       0.0  \n",
       "\n",
       "[8 rows x 785 columns]"
      ]
     },
     "execution_count": 5,
     "metadata": {},
     "output_type": "execute_result"
    }
   ],
   "source": [
    "train.describe()"
   ]
  },
  {
   "cell_type": "markdown",
   "id": "f0d2400f",
   "metadata": {
    "papermill": {
     "duration": 0.01287,
     "end_time": "2024-10-12T00:43:45.284816",
     "exception": false,
     "start_time": "2024-10-12T00:43:45.271946",
     "status": "completed"
    },
    "tags": []
   },
   "source": [
    "## check missing Data"
   ]
  },
  {
   "cell_type": "code",
   "execution_count": 6,
   "id": "a683bcf1",
   "metadata": {
    "execution": {
     "iopub.execute_input": "2024-10-12T00:43:45.313482Z",
     "iopub.status.busy": "2024-10-12T00:43:45.313090Z",
     "iopub.status.idle": "2024-10-12T00:43:45.345242Z",
     "shell.execute_reply": "2024-10-12T00:43:45.344071Z"
    },
    "papermill": {
     "duration": 0.049284,
     "end_time": "2024-10-12T00:43:45.347640",
     "exception": false,
     "start_time": "2024-10-12T00:43:45.298356",
     "status": "completed"
    },
    "tags": []
   },
   "outputs": [
    {
     "data": {
      "text/plain": [
       "0"
      ]
     },
     "execution_count": 6,
     "metadata": {},
     "output_type": "execute_result"
    }
   ],
   "source": [
    "train.isna().sum().sum()"
   ]
  },
  {
   "cell_type": "code",
   "execution_count": 7,
   "id": "0cce8ac1",
   "metadata": {
    "execution": {
     "iopub.execute_input": "2024-10-12T00:43:45.377422Z",
     "iopub.status.busy": "2024-10-12T00:43:45.376999Z",
     "iopub.status.idle": "2024-10-12T00:43:45.462338Z",
     "shell.execute_reply": "2024-10-12T00:43:45.461456Z"
    },
    "papermill": {
     "duration": 0.10316,
     "end_time": "2024-10-12T00:43:45.464921",
     "exception": false,
     "start_time": "2024-10-12T00:43:45.361761",
     "status": "completed"
    },
    "tags": []
   },
   "outputs": [],
   "source": [
    "X_train = train.drop(columns=['label'])\n",
    "Y_train = train['label']\n",
    "del train"
   ]
  },
  {
   "cell_type": "code",
   "execution_count": 8,
   "id": "670c8e00",
   "metadata": {
    "execution": {
     "iopub.execute_input": "2024-10-12T00:43:45.494078Z",
     "iopub.status.busy": "2024-10-12T00:43:45.493689Z",
     "iopub.status.idle": "2024-10-12T00:43:45.912462Z",
     "shell.execute_reply": "2024-10-12T00:43:45.911299Z"
    },
    "papermill": {
     "duration": 0.436015,
     "end_time": "2024-10-12T00:43:45.914818",
     "exception": false,
     "start_time": "2024-10-12T00:43:45.478803",
     "status": "completed"
    },
    "tags": []
   },
   "outputs": [
    {
     "data": {
      "text/plain": [
       "<BarContainer object of 10 artists>"
      ]
     },
     "execution_count": 8,
     "metadata": {},
     "output_type": "execute_result"
    },
    {
     "data": {
      "image/png": "[encoded data removed]",
      "text/plain": [
       "<Figure size 640x480 with 1 Axes>"
      ]
     },
     "metadata": {},
     "output_type": "display_data"
    }
   ],
   "source": [
    "plt.bar( x= Y_train.value_counts().keys() , height = Y_train.value_counts().values)"
   ]
  },
  {
   "cell_type": "markdown",
   "id": "793619aa",
   "metadata": {
    "_cell_guid": "6812040d-80ad-43d2-a571-275f4f20067b",
    "_uuid": "2954681f25f0dcbe986e6914396cdbce61db591f",
    "papermill": {
     "duration": 0.013681,
     "end_time": "2024-10-12T00:43:45.942711",
     "exception": false,
     "start_time": "2024-10-12T00:43:45.929030",
     "status": "completed"
    },
    "tags": []
   },
   "source": [
    "## 1.3 Normalization"
   ]
  },
  {
   "cell_type": "code",
   "execution_count": 9,
   "id": "a5666b1c",
   "metadata": {
    "_cell_guid": "cdc4340b-6e24-4e12-be99-ac806098ff17",
    "_execution_state": "idle",
    "_uuid": "b5d4f8fcf2a967e2c7d57daedf95aa8c5ab7f8cb",
    "execution": {
     "iopub.execute_input": "2024-10-12T00:43:45.972734Z",
     "iopub.status.busy": "2024-10-12T00:43:45.972007Z",
     "iopub.status.idle": "2024-10-12T00:43:46.070787Z",
     "shell.execute_reply": "2024-10-12T00:43:46.069641Z"
    },
    "papermill": {
     "duration": 0.116565,
     "end_time": "2024-10-12T00:43:46.073478",
     "exception": false,
     "start_time": "2024-10-12T00:43:45.956913",
     "status": "completed"
    },
    "tags": []
   },
   "outputs": [],
   "source": [
    "# Normalize the data\n",
    "X_train = X_train / 255.0\n",
    "test = test / 255.0"
   ]
  },
  {
   "cell_type": "markdown",
   "id": "aa359be4",
   "metadata": {
    "_cell_guid": "7413df94-bcb9-4f75-b174-c127d4445766",
    "_uuid": "a66741bf1ac597094f3a3166877008feef27c519",
    "papermill": {
     "duration": 0.013531,
     "end_time": "2024-10-12T00:43:46.101527",
     "exception": false,
     "start_time": "2024-10-12T00:43:46.087996",
     "status": "completed"
    },
    "tags": []
   },
   "source": [
    "## 1.4 Reshape"
   ]
  },
  {
   "cell_type": "code",
   "execution_count": 10,
   "id": "02f21fa0",
   "metadata": {
    "_cell_guid": "34b6a5f7-8fd2-4387-8ef4-c9dc19584fed",
    "_execution_state": "idle",
    "_uuid": "f0a6ad80dab8e0f2c2e46165ccd9cd82dd162bc3",
    "execution": {
     "iopub.execute_input": "2024-10-12T00:43:46.131011Z",
     "iopub.status.busy": "2024-10-12T00:43:46.130569Z",
     "iopub.status.idle": "2024-10-12T00:43:46.136250Z",
     "shell.execute_reply": "2024-10-12T00:43:46.135195Z"
    },
    "papermill": {
     "duration": 0.023146,
     "end_time": "2024-10-12T00:43:46.138574",
     "exception": false,
     "start_time": "2024-10-12T00:43:46.115428",
     "status": "completed"
    },
    "tags": []
   },
   "outputs": [],
   "source": [
    "# Reshape image in 3 dimensions (height = 28px, width = 28px , chanal = 1)\n",
    "X_train = X_train.values.reshape(-1,28,28,1)\n",
    "test = test.values.reshape(-1,28,28,1)"
   ]
  },
  {
   "cell_type": "code",
   "execution_count": 11,
   "id": "720fd592",
   "metadata": {
    "execution": {
     "iopub.execute_input": "2024-10-12T00:43:46.168346Z",
     "iopub.status.busy": "2024-10-12T00:43:46.167945Z",
     "iopub.status.idle": "2024-10-12T00:43:51.133583Z",
     "shell.execute_reply": "2024-10-12T00:43:51.132498Z"
    },
    "papermill": {
     "duration": 4.983573,
     "end_time": "2024-10-12T00:43:51.136349",
     "exception": false,
     "start_time": "2024-10-12T00:43:46.152776",
     "status": "completed"
    },
    "tags": []
   },
   "outputs": [
    {
     "data": {
      "image/png": "[encoded data removed]",
      "text/plain": [
       "<Figure size 2000x2000 with 25 Axes>"
      ]
     },
     "metadata": {},
     "output_type": "display_data"
    }
   ],
   "source": [
    "fig , ax = plt.subplots(5,5 , figsize=(20,20))\n",
    "ax = ax.flatten()\n",
    "i=0\n",
    "r_nums = np.random.randint(0,len(X_train),25)\n",
    "for n in  r_nums:\n",
    "    ax[i].imshow(X_train[n] , cmap = 'gray')\n",
    "    ax[i].axis('off')\n",
    "    ax[i].grid(False)\n",
    "    ax[i].set_title(Y_train[n])\n",
    "    i+=1"
   ]
  },
  {
   "cell_type": "markdown",
   "id": "26087b9f",
   "metadata": {
    "_cell_guid": "bdb422e2-bdec-444f-97a5-283a1e54bf2c",
    "_uuid": "39b7a31e843bac6b705461bcce89da216b91799e",
    "papermill": {
     "duration": 0.014527,
     "end_time": "2024-10-12T00:43:51.165985",
     "exception": false,
     "start_time": "2024-10-12T00:43:51.151458",
     "status": "completed"
    },
    "tags": []
   },
   "source": [
    "## 1.5 Label encoding"
   ]
  },
  {
   "cell_type": "code",
   "execution_count": 12,
   "id": "f8b8199d",
   "metadata": {
    "_cell_guid": "4b7f3e78-44dc-4561-b1f0-9429ee024cf4",
    "_execution_state": "idle",
    "_uuid": "cabefd1478d5c1bdfe57fd6a34395340916a854c",
    "execution": {
     "iopub.execute_input": "2024-10-12T00:43:51.197968Z",
     "iopub.status.busy": "2024-10-12T00:43:51.196987Z",
     "iopub.status.idle": "2024-10-12T00:43:51.203407Z",
     "shell.execute_reply": "2024-10-12T00:43:51.202373Z"
    },
    "papermill": {
     "duration": 0.024484,
     "end_time": "2024-10-12T00:43:51.205559",
     "exception": false,
     "start_time": "2024-10-12T00:43:51.181075",
     "status": "completed"
    },
    "tags": []
   },
   "outputs": [],
   "source": [
    "# Encode labels to one hot vectors (ex : 2 -> [0,0,1,0,0,0,0,0,0,0])\n",
    "Y_train = to_categorical(Y_train, num_classes = 10)"
   ]
  },
  {
   "cell_type": "markdown",
   "id": "81bedb63",
   "metadata": {
    "_cell_guid": "32152fc3-a570-4d64-8a7d-6c689a4acd33",
    "_uuid": "d8abbbf31483b94e1b29d07c4c8253d1311648a7",
    "papermill": {
     "duration": 0.014061,
     "end_time": "2024-10-12T00:43:51.233810",
     "exception": false,
     "start_time": "2024-10-12T00:43:51.219749",
     "status": "completed"
    },
    "tags": []
   },
   "source": [
    "## 1.6 Split training and valdiation set "
   ]
  },
  {
   "cell_type": "code",
   "execution_count": 13,
   "id": "ed9c4e40",
   "metadata": {
    "_cell_guid": "dcd25ebb-d845-4d32-9867-082e352b1396",
    "_execution_state": "idle",
    "_uuid": "b779ac76d8317647db92d5a88b4098d212d72884",
    "execution": {
     "iopub.execute_input": "2024-10-12T00:43:51.265371Z",
     "iopub.status.busy": "2024-10-12T00:43:51.264428Z",
     "iopub.status.idle": "2024-10-12T00:43:52.386214Z",
     "shell.execute_reply": "2024-10-12T00:43:52.385202Z"
    },
    "papermill": {
     "duration": 1.140497,
     "end_time": "2024-10-12T00:43:52.388958",
     "exception": false,
     "start_time": "2024-10-12T00:43:51.248461",
     "status": "completed"
    },
    "tags": []
   },
   "outputs": [],
   "source": [
    "# Split the train and the validation set for the fitting\n",
    "X_train, X_val, Y_train, Y_val = train_test_split(X_train, Y_train, test_size = 0.2, random_state=2,stratify=Y_train)"
   ]
  },
  {
   "cell_type": "code",
   "execution_count": 14,
   "id": "ffacad7a",
   "metadata": {
    "execution": {
     "iopub.execute_input": "2024-10-12T00:43:52.421019Z",
     "iopub.status.busy": "2024-10-12T00:43:52.420221Z",
     "iopub.status.idle": "2024-10-12T00:43:52.426438Z",
     "shell.execute_reply": "2024-10-12T00:43:52.425428Z"
    },
    "papermill": {
     "duration": 0.025049,
     "end_time": "2024-10-12T00:43:52.428955",
     "exception": false,
     "start_time": "2024-10-12T00:43:52.403906",
     "status": "completed"
    },
    "tags": []
   },
   "outputs": [
    {
     "name": "stdout",
     "output_type": "stream",
     "text": [
      "(33600, 28, 28, 1)\n",
      "(33600, 10)\n",
      "(8400, 28, 28, 1)\n",
      "(8400, 10)\n"
     ]
    }
   ],
   "source": [
    "print(X_train.shape)\n",
    "print(Y_train.shape)\n",
    "print(X_val.shape)\n",
    "print(Y_val.shape)"
   ]
  },
  {
   "cell_type": "markdown",
   "id": "0318cad5",
   "metadata": {
    "papermill": {
     "duration": 0.014591,
     "end_time": "2024-10-12T00:43:52.458496",
     "exception": false,
     "start_time": "2024-10-12T00:43:52.443905",
     "status": "completed"
    },
    "tags": []
   },
   "source": [
    "<div style=\"background-color: Green;  padding: 10px; border-radius: 10px; text-align: center;\">\n",
    "  <span style=\"color: white; font-size: 15px; font-weight: bold;\">\n",
    "      CNN Model\n",
    "</div>\n"
   ]
  },
  {
   "cell_type": "markdown",
   "id": "e8723ad7",
   "metadata": {
    "_cell_guid": "d5265777-aeb3-449d-b171-d88cad74c0a4",
    "_uuid": "5fa18b37a9acd9e098bac1d12264b0dd4310fdd3",
    "papermill": {
     "duration": 0.014277,
     "end_time": "2024-10-12T00:43:52.487513",
     "exception": false,
     "start_time": "2024-10-12T00:43:52.473236",
     "status": "completed"
    },
    "tags": []
   },
   "source": [
    "# 2. CNN\n",
    "## 2.1 Define the model"
   ]
  },
  {
   "cell_type": "code",
   "execution_count": 15,
   "id": "893839f7",
   "metadata": {
    "_cell_guid": "1e0f3f88-2ad7-459e-8e02-aecc5f3511ae",
    "_execution_state": "idle",
    "_uuid": "f7991ef6871a26f9fa57acdcd460a69bab53e804",
    "execution": {
     "iopub.execute_input": "2024-10-12T00:43:52.518566Z",
     "iopub.status.busy": "2024-10-12T00:43:52.518165Z",
     "iopub.status.idle": "2024-10-12T00:43:53.392815Z",
     "shell.execute_reply": "2024-10-12T00:43:53.391869Z"
    },
    "papermill": {
     "duration": 0.89349,
     "end_time": "2024-10-12T00:43:53.395477",
     "exception": false,
     "start_time": "2024-10-12T00:43:52.501987",
     "status": "completed"
    },
    "tags": []
   },
   "outputs": [
    {
     "name": "stderr",
     "output_type": "stream",
     "text": [
      "/opt/conda/lib/python3.10/site-packages/keras/src/layers/convolutional/base_conv.py:107: UserWarning: Do not pass an `input_shape`/`input_dim` argument to a layer. When using Sequential models, prefer using an `Input(shape)` object as the first layer in the model instead.\n",
      "  super().__init__(activity_regularizer=activity_regularizer, **kwargs)\n"
     ]
    },
    {
     "data": {
      "text/html": [
       "<pre style=\"white-space:pre;overflow-x:auto;line-height:normal;font-family:Menlo,'DejaVu Sans Mono',consolas,'Courier New',monospace\"><span style=\"font-weight: bold\">Model: \"sequential\"</span>\n",
       "</pre>\n"
      ],
      "text/plain": [
       "\u001b[1mModel: \"sequential\"\u001b[0m\n"
      ]
     },
     "metadata": {},
     "output_type": "display_data"
    },
    {
     "data": {
      "text/html": [
       "<pre style=\"white-space:pre;overflow-x:auto;line-height:normal;font-family:Menlo,'DejaVu Sans Mono',consolas,'Courier New',monospace\">┏━━━━━━━━━━━━━━━━━━━━━━━━━━━━━━━━━┳━━━━━━━━━━━━━━━━━━━━━━━━┳━━━━━━━━━━━━━━━┓\n",
       "┃<span style=\"font-weight: bold\"> Layer (type)                    </span>┃<span style=\"font-weight: bold\"> Output Shape           </span>┃<span style=\"font-weight: bold\">       Param # </span>┃\n",
       "┡━━━━━━━━━━━━━━━━━━━━━━━━━━━━━━━━━╇━━━━━━━━━━━━━━━━━━━━━━━━╇━━━━━━━━━━━━━━━┩\n",
       "│ conv2d (<span style=\"color: #0087ff; text-decoration-color: #0087ff\">Conv2D</span>)                 │ (<span style=\"color: #00d7ff; text-decoration-color: #00d7ff\">None</span>, <span style=\"color: #00af00; text-decoration-color: #00af00\">28</span>, <span style=\"color: #00af00; text-decoration-color: #00af00\">28</span>, <span style=\"color: #00af00; text-decoration-color: #00af00\">32</span>)     │           <span style=\"color: #00af00; text-decoration-color: #00af00\">832</span> │\n",
       "├─────────────────────────────────┼────────────────────────┼───────────────┤\n",
       "│ conv2d_1 (<span style=\"color: #0087ff; text-decoration-color: #0087ff\">Conv2D</span>)               │ (<span style=\"color: #00d7ff; text-decoration-color: #00d7ff\">None</span>, <span style=\"color: #00af00; text-decoration-color: #00af00\">28</span>, <span style=\"color: #00af00; text-decoration-color: #00af00\">28</span>, <span style=\"color: #00af00; text-decoration-color: #00af00\">32</span>)     │        <span style=\"color: #00af00; text-decoration-color: #00af00\">25,632</span> │\n",
       "├─────────────────────────────────┼────────────────────────┼───────────────┤\n",
       "│ batch_normalization             │ (<span style=\"color: #00d7ff; text-decoration-color: #00d7ff\">None</span>, <span style=\"color: #00af00; text-decoration-color: #00af00\">28</span>, <span style=\"color: #00af00; text-decoration-color: #00af00\">28</span>, <span style=\"color: #00af00; text-decoration-color: #00af00\">32</span>)     │           <span style=\"color: #00af00; text-decoration-color: #00af00\">128</span> │\n",
       "│ (<span style=\"color: #0087ff; text-decoration-color: #0087ff\">BatchNormalization</span>)            │                        │               │\n",
       "├─────────────────────────────────┼────────────────────────┼───────────────┤\n",
       "│ max_pooling2d (<span style=\"color: #0087ff; text-decoration-color: #0087ff\">MaxPooling2D</span>)    │ (<span style=\"color: #00d7ff; text-decoration-color: #00d7ff\">None</span>, <span style=\"color: #00af00; text-decoration-color: #00af00\">14</span>, <span style=\"color: #00af00; text-decoration-color: #00af00\">14</span>, <span style=\"color: #00af00; text-decoration-color: #00af00\">32</span>)     │             <span style=\"color: #00af00; text-decoration-color: #00af00\">0</span> │\n",
       "├─────────────────────────────────┼────────────────────────┼───────────────┤\n",
       "│ dropout (<span style=\"color: #0087ff; text-decoration-color: #0087ff\">Dropout</span>)               │ (<span style=\"color: #00d7ff; text-decoration-color: #00d7ff\">None</span>, <span style=\"color: #00af00; text-decoration-color: #00af00\">14</span>, <span style=\"color: #00af00; text-decoration-color: #00af00\">14</span>, <span style=\"color: #00af00; text-decoration-color: #00af00\">32</span>)     │             <span style=\"color: #00af00; text-decoration-color: #00af00\">0</span> │\n",
       "├─────────────────────────────────┼────────────────────────┼───────────────┤\n",
       "│ conv2d_2 (<span style=\"color: #0087ff; text-decoration-color: #0087ff\">Conv2D</span>)               │ (<span style=\"color: #00d7ff; text-decoration-color: #00d7ff\">None</span>, <span style=\"color: #00af00; text-decoration-color: #00af00\">14</span>, <span style=\"color: #00af00; text-decoration-color: #00af00\">14</span>, <span style=\"color: #00af00; text-decoration-color: #00af00\">64</span>)     │        <span style=\"color: #00af00; text-decoration-color: #00af00\">18,496</span> │\n",
       "├─────────────────────────────────┼────────────────────────┼───────────────┤\n",
       "│ conv2d_3 (<span style=\"color: #0087ff; text-decoration-color: #0087ff\">Conv2D</span>)               │ (<span style=\"color: #00d7ff; text-decoration-color: #00d7ff\">None</span>, <span style=\"color: #00af00; text-decoration-color: #00af00\">14</span>, <span style=\"color: #00af00; text-decoration-color: #00af00\">14</span>, <span style=\"color: #00af00; text-decoration-color: #00af00\">64</span>)     │        <span style=\"color: #00af00; text-decoration-color: #00af00\">36,928</span> │\n",
       "├─────────────────────────────────┼────────────────────────┼───────────────┤\n",
       "│ batch_normalization_1           │ (<span style=\"color: #00d7ff; text-decoration-color: #00d7ff\">None</span>, <span style=\"color: #00af00; text-decoration-color: #00af00\">14</span>, <span style=\"color: #00af00; text-decoration-color: #00af00\">14</span>, <span style=\"color: #00af00; text-decoration-color: #00af00\">64</span>)     │           <span style=\"color: #00af00; text-decoration-color: #00af00\">256</span> │\n",
       "│ (<span style=\"color: #0087ff; text-decoration-color: #0087ff\">BatchNormalization</span>)            │                        │               │\n",
       "├─────────────────────────────────┼────────────────────────┼───────────────┤\n",
       "│ max_pooling2d_1 (<span style=\"color: #0087ff; text-decoration-color: #0087ff\">MaxPooling2D</span>)  │ (<span style=\"color: #00d7ff; text-decoration-color: #00d7ff\">None</span>, <span style=\"color: #00af00; text-decoration-color: #00af00\">7</span>, <span style=\"color: #00af00; text-decoration-color: #00af00\">7</span>, <span style=\"color: #00af00; text-decoration-color: #00af00\">64</span>)       │             <span style=\"color: #00af00; text-decoration-color: #00af00\">0</span> │\n",
       "├─────────────────────────────────┼────────────────────────┼───────────────┤\n",
       "│ dropout_1 (<span style=\"color: #0087ff; text-decoration-color: #0087ff\">Dropout</span>)             │ (<span style=\"color: #00d7ff; text-decoration-color: #00d7ff\">None</span>, <span style=\"color: #00af00; text-decoration-color: #00af00\">7</span>, <span style=\"color: #00af00; text-decoration-color: #00af00\">7</span>, <span style=\"color: #00af00; text-decoration-color: #00af00\">64</span>)       │             <span style=\"color: #00af00; text-decoration-color: #00af00\">0</span> │\n",
       "├─────────────────────────────────┼────────────────────────┼───────────────┤\n",
       "│ flatten (<span style=\"color: #0087ff; text-decoration-color: #0087ff\">Flatten</span>)               │ (<span style=\"color: #00d7ff; text-decoration-color: #00d7ff\">None</span>, <span style=\"color: #00af00; text-decoration-color: #00af00\">3136</span>)           │             <span style=\"color: #00af00; text-decoration-color: #00af00\">0</span> │\n",
       "├─────────────────────────────────┼────────────────────────┼───────────────┤\n",
       "│ dense (<span style=\"color: #0087ff; text-decoration-color: #0087ff\">Dense</span>)                   │ (<span style=\"color: #00d7ff; text-decoration-color: #00d7ff\">None</span>, <span style=\"color: #00af00; text-decoration-color: #00af00\">256</span>)            │       <span style=\"color: #00af00; text-decoration-color: #00af00\">803,072</span> │\n",
       "├─────────────────────────────────┼────────────────────────┼───────────────┤\n",
       "│ dropout_2 (<span style=\"color: #0087ff; text-decoration-color: #0087ff\">Dropout</span>)             │ (<span style=\"color: #00d7ff; text-decoration-color: #00d7ff\">None</span>, <span style=\"color: #00af00; text-decoration-color: #00af00\">256</span>)            │             <span style=\"color: #00af00; text-decoration-color: #00af00\">0</span> │\n",
       "├─────────────────────────────────┼────────────────────────┼───────────────┤\n",
       "│ dense_1 (<span style=\"color: #0087ff; text-decoration-color: #0087ff\">Dense</span>)                 │ (<span style=\"color: #00d7ff; text-decoration-color: #00d7ff\">None</span>, <span style=\"color: #00af00; text-decoration-color: #00af00\">10</span>)             │         <span style=\"color: #00af00; text-decoration-color: #00af00\">2,570</span> │\n",
       "└─────────────────────────────────┴────────────────────────┴───────────────┘\n",
       "</pre>\n"
      ],
      "text/plain": [
       "┏━━━━━━━━━━━━━━━━━━━━━━━━━━━━━━━━━┳━━━━━━━━━━━━━━━━━━━━━━━━┳━━━━━━━━━━━━━━━┓\n",
       "┃\u001b[1m \u001b[0m\u001b[1mLayer (type)                   \u001b[0m\u001b[1m \u001b[0m┃\u001b[1m \u001b[0m\u001b[1mOutput Shape          \u001b[0m\u001b[1m \u001b[0m┃\u001b[1m \u001b[0m\u001b[1m      Param #\u001b[0m\u001b[1m \u001b[0m┃\n",
       "┡━━━━━━━━━━━━━━━━━━━━━━━━━━━━━━━━━╇━━━━━━━━━━━━━━━━━━━━━━━━╇━━━━━━━━━━━━━━━┩\n",
       "│ conv2d (\u001b[38;5;33mConv2D\u001b[0m)                 │ (\u001b[38;5;45mNone\u001b[0m, \u001b[38;5;34m28\u001b[0m, \u001b[38;5;34m28\u001b[0m, \u001b[38;5;34m32\u001b[0m)     │           \u001b[38;5;34m832\u001b[0m │\n",
       "├─────────────────────────────────┼────────────────────────┼───────────────┤\n",
       "│ conv2d_1 (\u001b[38;5;33mConv2D\u001b[0m)               │ (\u001b[38;5;45mNone\u001b[0m, \u001b[38;5;34m28\u001b[0m, \u001b[38;5;34m28\u001b[0m, \u001b[38;5;34m32\u001b[0m)     │        \u001b[38;5;34m25,632\u001b[0m │\n",
       "├─────────────────────────────────┼────────────────────────┼───────────────┤\n",
       "│ batch_normalization             │ (\u001b[38;5;45mNone\u001b[0m, \u001b[38;5;34m28\u001b[0m, \u001b[38;5;34m28\u001b[0m, \u001b[38;5;34m32\u001b[0m)     │           \u001b[38;5;34m128\u001b[0m │\n",
       "│ (\u001b[38;5;33mBatchNormalization\u001b[0m)            │                        │               │\n",
       "├─────────────────────────────────┼────────────────────────┼───────────────┤\n",
       "│ max_pooling2d (\u001b[38;5;33mMaxPooling2D\u001b[0m)    │ (\u001b[38;5;45mNone\u001b[0m, \u001b[38;5;34m14\u001b[0m, \u001b[38;5;34m14\u001b[0m, \u001b[38;5;34m32\u001b[0m)     │             \u001b[38;5;34m0\u001b[0m │\n",
       "├─────────────────────────────────┼────────────────────────┼───────────────┤\n",
       "│ dropout (\u001b[38;5;33mDropout\u001b[0m)               │ (\u001b[38;5;45mNone\u001b[0m, \u001b[38;5;34m14\u001b[0m, \u001b[38;5;34m14\u001b[0m, \u001b[38;5;34m32\u001b[0m)     │             \u001b[38;5;34m0\u001b[0m │\n",
       "├─────────────────────────────────┼────────────────────────┼───────────────┤\n",
       "│ conv2d_2 (\u001b[38;5;33mConv2D\u001b[0m)               │ (\u001b[38;5;45mNone\u001b[0m, \u001b[38;5;34m14\u001b[0m, \u001b[38;5;34m14\u001b[0m, \u001b[38;5;34m64\u001b[0m)     │        \u001b[38;5;34m18,496\u001b[0m │\n",
       "├─────────────────────────────────┼────────────────────────┼───────────────┤\n",
       "│ conv2d_3 (\u001b[38;5;33mConv2D\u001b[0m)               │ (\u001b[38;5;45mNone\u001b[0m, \u001b[38;5;34m14\u001b[0m, \u001b[38;5;34m14\u001b[0m, \u001b[38;5;34m64\u001b[0m)     │        \u001b[38;5;34m36,928\u001b[0m │\n",
       "├─────────────────────────────────┼────────────────────────┼───────────────┤\n",
       "│ batch_normalization_1           │ (\u001b[38;5;45mNone\u001b[0m, \u001b[38;5;34m14\u001b[0m, \u001b[38;5;34m14\u001b[0m, \u001b[38;5;34m64\u001b[0m)     │           \u001b[38;5;34m256\u001b[0m │\n",
       "│ (\u001b[38;5;33mBatchNormalization\u001b[0m)            │                        │               │\n",
       "├─────────────────────────────────┼────────────────────────┼───────────────┤\n",
       "│ max_pooling2d_1 (\u001b[38;5;33mMaxPooling2D\u001b[0m)  │ (\u001b[38;5;45mNone\u001b[0m, \u001b[38;5;34m7\u001b[0m, \u001b[38;5;34m7\u001b[0m, \u001b[38;5;34m64\u001b[0m)       │             \u001b[38;5;34m0\u001b[0m │\n",
       "├─────────────────────────────────┼────────────────────────┼───────────────┤\n",
       "│ dropout_1 (\u001b[38;5;33mDropout\u001b[0m)             │ (\u001b[38;5;45mNone\u001b[0m, \u001b[38;5;34m7\u001b[0m, \u001b[38;5;34m7\u001b[0m, \u001b[38;5;34m64\u001b[0m)       │             \u001b[38;5;34m0\u001b[0m │\n",
       "├─────────────────────────────────┼────────────────────────┼───────────────┤\n",
       "│ flatten (\u001b[38;5;33mFlatten\u001b[0m)               │ (\u001b[38;5;45mNone\u001b[0m, \u001b[38;5;34m3136\u001b[0m)           │             \u001b[38;5;34m0\u001b[0m │\n",
       "├─────────────────────────────────┼────────────────────────┼───────────────┤\n",
       "│ dense (\u001b[38;5;33mDense\u001b[0m)                   │ (\u001b[38;5;45mNone\u001b[0m, \u001b[38;5;34m256\u001b[0m)            │       \u001b[38;5;34m803,072\u001b[0m │\n",
       "├─────────────────────────────────┼────────────────────────┼───────────────┤\n",
       "│ dropout_2 (\u001b[38;5;33mDropout\u001b[0m)             │ (\u001b[38;5;45mNone\u001b[0m, \u001b[38;5;34m256\u001b[0m)            │             \u001b[38;5;34m0\u001b[0m │\n",
       "├─────────────────────────────────┼────────────────────────┼───────────────┤\n",
       "│ dense_1 (\u001b[38;5;33mDense\u001b[0m)                 │ (\u001b[38;5;45mNone\u001b[0m, \u001b[38;5;34m10\u001b[0m)             │         \u001b[38;5;34m2,570\u001b[0m │\n",
       "└─────────────────────────────────┴────────────────────────┴───────────────┘\n"
      ]
     },
     "metadata": {},
     "output_type": "display_data"
    },
    {
     "data": {
      "text/html": [
       "<pre style=\"white-space:pre;overflow-x:auto;line-height:normal;font-family:Menlo,'DejaVu Sans Mono',consolas,'Courier New',monospace\"><span style=\"font-weight: bold\"> Total params: </span><span style=\"color: #00af00; text-decoration-color: #00af00\">887,914</span> (3.39 MB)\n",
       "</pre>\n"
      ],
      "text/plain": [
       "\u001b[1m Total params: \u001b[0m\u001b[38;5;34m887,914\u001b[0m (3.39 MB)\n"
      ]
     },
     "metadata": {},
     "output_type": "display_data"
    },
    {
     "data": {
      "text/html": [
       "<pre style=\"white-space:pre;overflow-x:auto;line-height:normal;font-family:Menlo,'DejaVu Sans Mono',consolas,'Courier New',monospace\"><span style=\"font-weight: bold\"> Trainable params: </span><span style=\"color: #00af00; text-decoration-color: #00af00\">887,722</span> (3.39 MB)\n",
       "</pre>\n"
      ],
      "text/plain": [
       "\u001b[1m Trainable params: \u001b[0m\u001b[38;5;34m887,722\u001b[0m (3.39 MB)\n"
      ]
     },
     "metadata": {},
     "output_type": "display_data"
    },
    {
     "data": {
      "text/html": [
       "<pre style=\"white-space:pre;overflow-x:auto;line-height:normal;font-family:Menlo,'DejaVu Sans Mono',consolas,'Courier New',monospace\"><span style=\"font-weight: bold\"> Non-trainable params: </span><span style=\"color: #00af00; text-decoration-color: #00af00\">192</span> (768.00 B)\n",
       "</pre>\n"
      ],
      "text/plain": [
       "\u001b[1m Non-trainable params: \u001b[0m\u001b[38;5;34m192\u001b[0m (768.00 B)\n"
      ]
     },
     "metadata": {},
     "output_type": "display_data"
    },
    {
     "name": "stdout",
     "output_type": "stream",
     "text": [
      "None\n"
     ]
    }
   ],
   "source": [
    "# Set the CNN model \n",
    "\n",
    "model = Sequential([\n",
    "\n",
    "        Conv2D(filters = 32, kernel_size = (5,5),padding = 'Same', activation ='relu', input_shape = (28,28,1)),\n",
    "        Conv2D(filters = 32, kernel_size = (5,5),padding = 'Same', activation ='relu'),\n",
    "        BatchNormalization(),\n",
    "        MaxPool2D(pool_size=(2,2)),\n",
    "        Dropout(0.25),\n",
    "\n",
    "\n",
    "        Conv2D(filters = 64, kernel_size = (3,3),padding = 'Same', activation ='relu'),\n",
    "        Conv2D(filters = 64, kernel_size = (3,3),padding = 'Same', activation ='relu'),\n",
    "        BatchNormalization()  ,  \n",
    "        MaxPool2D(pool_size=(2,2)),\n",
    "        Dropout(0.25),\n",
    "\n",
    "\n",
    "        Flatten(),\n",
    "        Dense(256, activation = \"relu\"),\n",
    "        Dropout(0.5),\n",
    "        Dense(10, activation = \"softmax\"),\n",
    "    ])\n",
    "    \n",
    "    \n",
    "# categorical_crossentropy with one hot encoded labels    \n",
    "model.compile(optimizer = 'adam', loss = 'categorical_crossentropy', metrics = ['accuracy'])\n",
    "\n",
    "print(model.summary()) \n"
   ]
  },
  {
   "cell_type": "markdown",
   "id": "24a39df0",
   "metadata": {
    "papermill": {
     "duration": 0.015292,
     "end_time": "2024-10-12T00:43:53.427013",
     "exception": false,
     "start_time": "2024-10-12T00:43:53.411721",
     "status": "completed"
    },
    "tags": []
   },
   "source": [
    "<div style=\"background-color: Green;  padding: 10px; border-radius: 10px; text-align: center;\">\n",
    "  <span style=\"color: white; font-size: 15px; font-weight: bold;\">\n",
    "      Data Augmentation\n",
    "</div>\n"
   ]
  },
  {
   "cell_type": "markdown",
   "id": "1adc7cb9",
   "metadata": {
    "_cell_guid": "241a0f4f-13f5-4b13-be1e-4e3e4a714c06",
    "_uuid": "f24df64b223e0177c94025b6767ab19b722c5386",
    "papermill": {
     "duration": 0.015919,
     "end_time": "2024-10-12T00:43:53.458497",
     "exception": false,
     "start_time": "2024-10-12T00:43:53.442578",
     "status": "completed"
    },
    "tags": []
   },
   "source": [
    "## 2.3 Data augmentation "
   ]
  },
  {
   "cell_type": "code",
   "execution_count": 16,
   "id": "b8b6f148",
   "metadata": {
    "_cell_guid": "b342befe-1a6f-44bf-8dab-28033a729122",
    "_execution_state": "idle",
    "_uuid": "21d6192c87d92d497c797656474bccd9cefc5647",
    "execution": {
     "iopub.execute_input": "2024-10-12T00:43:53.492878Z",
     "iopub.status.busy": "2024-10-12T00:43:53.492481Z",
     "iopub.status.idle": "2024-10-12T00:43:53.580533Z",
     "shell.execute_reply": "2024-10-12T00:43:53.579553Z"
    },
    "papermill": {
     "duration": 0.108462,
     "end_time": "2024-10-12T00:43:53.583275",
     "exception": false,
     "start_time": "2024-10-12T00:43:53.474813",
     "status": "completed"
    },
    "tags": []
   },
   "outputs": [],
   "source": [
    "datagen = ImageDataGenerator(\n",
    "        rotation_range=10,      # randomly rotate images in the range 5 degrees\n",
    "        zoom_range = 0.1,       # Randomly zoom image 10%\n",
    "        width_shift_range=0.1,  # randomly shift images horizontally 10%\n",
    "        height_shift_range=0.1,  # randomly shift images vertically 10%\n",
    ")\n",
    "\n",
    "datagen.fit(X_train)"
   ]
  },
  {
   "cell_type": "code",
   "execution_count": 17,
   "id": "c4f68b7c",
   "metadata": {
    "execution": {
     "iopub.execute_input": "2024-10-12T00:43:53.621697Z",
     "iopub.status.busy": "2024-10-12T00:43:53.621239Z",
     "iopub.status.idle": "2024-10-12T00:43:53.628074Z",
     "shell.execute_reply": "2024-10-12T00:43:53.627096Z"
    },
    "papermill": {
     "duration": 0.027898,
     "end_time": "2024-10-12T00:43:53.630355",
     "exception": false,
     "start_time": "2024-10-12T00:43:53.602457",
     "status": "completed"
    },
    "tags": []
   },
   "outputs": [
    {
     "data": {
      "text/plain": [
       "(33600, 28, 28, 1)"
      ]
     },
     "execution_count": 17,
     "metadata": {},
     "output_type": "execute_result"
    }
   ],
   "source": [
    "X_train.shape"
   ]
  },
  {
   "cell_type": "code",
   "execution_count": 18,
   "id": "8056d8f6",
   "metadata": {
    "_cell_guid": "b453af8d-9736-43e3-b486-7a1cd7dd8909",
    "_execution_state": "idle",
    "_uuid": "cf36b3d029f95b553be02d612e097a9769ee8252",
    "execution": {
     "iopub.execute_input": "2024-10-12T00:43:53.665061Z",
     "iopub.status.busy": "2024-10-12T00:43:53.664646Z",
     "iopub.status.idle": "2024-10-12T00:45:37.371887Z",
     "shell.execute_reply": "2024-10-12T00:45:37.370893Z"
    },
    "papermill": {
     "duration": 103.727202,
     "end_time": "2024-10-12T00:45:37.374343",
     "exception": false,
     "start_time": "2024-10-12T00:43:53.647141",
     "status": "completed"
    },
    "tags": []
   },
   "outputs": [
    {
     "name": "stdout",
     "output_type": "stream",
     "text": [
      "Epoch 1/12\n"
     ]
    },
    {
     "name": "stderr",
     "output_type": "stream",
     "text": [
      "/opt/conda/lib/python3.10/site-packages/keras/src/trainers/data_adapters/py_dataset_adapter.py:121: UserWarning: Your `PyDataset` class should call `super().__init__(**kwargs)` in its constructor. `**kwargs` can include `workers`, `use_multiprocessing`, `max_queue_size`. Do not pass these arguments to `fit()`, as they will be ignored.\n",
      "  self._warn_if_super_not_called()\n",
      "WARNING: All log messages before absl::InitializeLog() is called are written to STDERR\n",
      "I0000 00:00:1728693836.987656      64 service.cc:145] XLA service 0x7c5a24003a90 initialized for platform CUDA (this does not guarantee that XLA will be used). Devices:\n",
      "I0000 00:00:1728693836.987740      64 service.cc:153]   StreamExecutor device (0): Tesla P100-PCIE-16GB, Compute Capability 6.0\n",
      "I0000 00:00:1728693844.954288      64 device_compiler.h:188] Compiled cluster using XLA!  This line is logged at most once for the lifetime of the process.\n"
     ]
    },
    {
     "name": "stdout",
     "output_type": "stream",
     "text": [
      "262/262 - 32s - 121ms/step - accuracy: 0.8067 - loss: 0.6314 - val_accuracy: 0.5306 - val_loss: 1.7941\n",
      "Epoch 2/12\n"
     ]
    },
    {
     "name": "stderr",
     "output_type": "stream",
     "text": [
      "/opt/conda/lib/python3.10/contextlib.py:153: UserWarning: Your input ran out of data; interrupting training. Make sure that your dataset or generator can generate at least `steps_per_epoch * epochs` batches. You may need to use the `.repeat()` function when building your dataset.\n",
      "  self.gen.throw(typ, value, traceback)\n"
     ]
    },
    {
     "name": "stdout",
     "output_type": "stream",
     "text": [
      "262/262 - 0s - 2ms/step - accuracy: 0.9688 - loss: 0.1427 - val_accuracy: 0.5277 - val_loss: 1.8086\n",
      "Epoch 3/12\n",
      "262/262 - 14s - 52ms/step - accuracy: 0.9448 - loss: 0.1818 - val_accuracy: 0.9779 - val_loss: 0.0662\n",
      "Epoch 4/12\n",
      "262/262 - 0s - 2ms/step - accuracy: 0.9688 - loss: 0.1028 - val_accuracy: 0.9765 - val_loss: 0.0711\n",
      "Epoch 5/12\n",
      "262/262 - 14s - 52ms/step - accuracy: 0.9601 - loss: 0.1399 - val_accuracy: 0.9682 - val_loss: 0.1002\n",
      "Epoch 6/12\n",
      "262/262 - 0s - 2ms/step - accuracy: 0.9688 - loss: 0.0859 - val_accuracy: 0.9640 - val_loss: 0.1120\n",
      "Epoch 7/12\n",
      "262/262 - 14s - 52ms/step - accuracy: 0.9665 - loss: 0.1136 - val_accuracy: 0.9867 - val_loss: 0.0449\n",
      "Epoch 8/12\n",
      "262/262 - 0s - 2ms/step - accuracy: 0.9453 - loss: 0.1743 - val_accuracy: 0.9871 - val_loss: 0.0446\n",
      "Epoch 9/12\n",
      "262/262 - 14s - 52ms/step - accuracy: 0.9711 - loss: 0.0979 - val_accuracy: 0.9898 - val_loss: 0.0302\n",
      "Epoch 10/12\n",
      "262/262 - 0s - 2ms/step - accuracy: 0.9922 - loss: 0.0283 - val_accuracy: 0.9892 - val_loss: 0.0300\n",
      "Epoch 11/12\n",
      "262/262 - 14s - 53ms/step - accuracy: 0.9740 - loss: 0.0912 - val_accuracy: 0.9855 - val_loss: 0.0510\n",
      "Epoch 12/12\n",
      "262/262 - 1s - 3ms/step - accuracy: 0.9688 - loss: 0.1439 - val_accuracy: 0.9844 - val_loss: 0.0537\n"
     ]
    }
   ],
   "source": [
    "# Fit the model\n",
    "batch_size=128\n",
    "epochs = 12\n",
    "\n",
    "history = model.fit(datagen.flow(X_train,Y_train, batch_size=batch_size),\n",
    "                              epochs = epochs, validation_data = (X_val,Y_val),\n",
    "                              verbose = 2, steps_per_epoch=X_train.shape[0] // batch_size )"
   ]
  },
  {
   "cell_type": "markdown",
   "id": "61451081",
   "metadata": {
    "papermill": {
     "duration": 0.018279,
     "end_time": "2024-10-12T00:45:37.410988",
     "exception": false,
     "start_time": "2024-10-12T00:45:37.392709",
     "status": "completed"
    },
    "tags": []
   },
   "source": [
    "<div style=\"background-color: Green;  padding: 10px; border-radius: 10px; text-align: center;\">\n",
    "  <span style=\"color: white; font-size: 20px; font-weight: bold;\">\n",
    "      Evaluting\n",
    "</div>\n"
   ]
  },
  {
   "cell_type": "markdown",
   "id": "b3a1fa0f",
   "metadata": {
    "_cell_guid": "e758621d-b27b-40ff-a93f-bebd2e0e5243",
    "_uuid": "0a1834f2a9f2db15dcaba4a84004b9627d714469",
    "papermill": {
     "duration": 0.018482,
     "end_time": "2024-10-12T00:45:37.448049",
     "exception": false,
     "start_time": "2024-10-12T00:45:37.429567",
     "status": "completed"
    },
    "tags": []
   },
   "source": [
    "# 3. Evaluate the model\n",
    "## 3.1 Training and validation curves"
   ]
  },
  {
   "cell_type": "code",
   "execution_count": 19,
   "id": "02a6feb8",
   "metadata": {
    "execution": {
     "iopub.execute_input": "2024-10-12T00:45:37.488004Z",
     "iopub.status.busy": "2024-10-12T00:45:37.487578Z",
     "iopub.status.idle": "2024-10-12T00:45:37.494343Z",
     "shell.execute_reply": "2024-10-12T00:45:37.493328Z"
    },
    "papermill": {
     "duration": 0.029588,
     "end_time": "2024-10-12T00:45:37.496535",
     "exception": false,
     "start_time": "2024-10-12T00:45:37.466947",
     "status": "completed"
    },
    "tags": []
   },
   "outputs": [
    {
     "data": {
      "text/plain": [
       "dict_keys(['accuracy', 'loss', 'val_accuracy', 'val_loss'])"
      ]
     },
     "execution_count": 19,
     "metadata": {},
     "output_type": "execute_result"
    }
   ],
   "source": [
    "history.history.keys()"
   ]
  },
  {
   "cell_type": "code",
   "execution_count": 20,
   "id": "3a83e905",
   "metadata": {
    "execution": {
     "iopub.execute_input": "2024-10-12T00:45:37.537057Z",
     "iopub.status.busy": "2024-10-12T00:45:37.536200Z",
     "iopub.status.idle": "2024-10-12T00:45:37.905659Z",
     "shell.execute_reply": "2024-10-12T00:45:37.904545Z"
    },
    "papermill": {
     "duration": 0.392531,
     "end_time": "2024-10-12T00:45:37.908093",
     "exception": false,
     "start_time": "2024-10-12T00:45:37.515562",
     "status": "completed"
    },
    "tags": []
   },
   "outputs": [
    {
     "data": {
      "image/png": "[encoded data removed]",
      "text/plain": [
       "<Figure size 640x480 with 1 Axes>"
      ]
     },
     "metadata": {},
     "output_type": "display_data"
    }
   ],
   "source": [
    "plt.plot(history.history['accuracy'], color = 'b', label = 'Training Accuracy')\n",
    "plt.plot(history.history['val_accuracy'], color = 'r', label = 'Validation Accuracy')\n",
    "plt.title('Traning Accuracy Vs Validation Accuracy')\n",
    "plt.legend()\n",
    "plt.xlabel('Epoch')\n",
    "plt.ylabel('Accuracy')\n",
    "plt.show()"
   ]
  },
  {
   "cell_type": "code",
   "execution_count": 21,
   "id": "fc7e932a",
   "metadata": {
    "execution": {
     "iopub.execute_input": "2024-10-12T00:45:37.948729Z",
     "iopub.status.busy": "2024-10-12T00:45:37.947988Z",
     "iopub.status.idle": "2024-10-12T00:45:38.374047Z",
     "shell.execute_reply": "2024-10-12T00:45:38.373027Z"
    },
    "papermill": {
     "duration": 0.448918,
     "end_time": "2024-10-12T00:45:38.376442",
     "exception": false,
     "start_time": "2024-10-12T00:45:37.927524",
     "status": "completed"
    },
    "tags": []
   },
   "outputs": [
    {
     "data": {
      "image/png": "[encoded data removed]",
      "text/plain": [
       "<Figure size 640x480 with 1 Axes>"
      ]
     },
     "metadata": {},
     "output_type": "display_data"
    }
   ],
   "source": [
    "plt.plot(history.history['loss'], color = 'b', label = 'Training Loss')\n",
    "plt.plot(history.history['val_loss'], color = 'r', label = 'Validation Loss')\n",
    "plt.title('Traning Loss Vs Validation Loss')\n",
    "plt.legend()\n",
    "plt.xlabel('Loss')\n",
    "plt.ylabel('Accuracy')\n",
    "plt.show()"
   ]
  },
  {
   "cell_type": "markdown",
   "id": "38a84ef2",
   "metadata": {
    "_cell_guid": "de1c65bd-4a88-4351-9f4b-562e72e7e0fd",
    "_uuid": "63698d7d51381b33892ce164b0f21930abb3e937",
    "papermill": {
     "duration": 0.018649,
     "end_time": "2024-10-12T00:45:38.414528",
     "exception": false,
     "start_time": "2024-10-12T00:45:38.395879",
     "status": "completed"
    },
    "tags": []
   },
   "source": [
    "## 3.2 Confusion matrix"
   ]
  },
  {
   "cell_type": "code",
   "execution_count": 22,
   "id": "c52a1041",
   "metadata": {
    "_cell_guid": "11361e73-8250-4bf5-a353-b0f8ea83e659",
    "_execution_state": "idle",
    "_uuid": "16e161179bf1b51ba66c39b2cead883f1db3a9c7",
    "execution": {
     "iopub.execute_input": "2024-10-12T00:45:38.456488Z",
     "iopub.status.busy": "2024-10-12T00:45:38.455548Z",
     "iopub.status.idle": "2024-10-12T00:45:40.854339Z",
     "shell.execute_reply": "2024-10-12T00:45:40.853296Z"
    },
    "papermill": {
     "duration": 2.422584,
     "end_time": "2024-10-12T00:45:40.856711",
     "exception": false,
     "start_time": "2024-10-12T00:45:38.434127",
     "status": "completed"
    },
    "tags": []
   },
   "outputs": [
    {
     "name": "stdout",
     "output_type": "stream",
     "text": [
      "\u001b[1m263/263\u001b[0m \u001b[32m━━━━━━━━━━━━━━━━━━━━\u001b[0m\u001b[37m\u001b[0m \u001b[1m1s\u001b[0m 3ms/step\n"
     ]
    },
    {
     "data": {
      "image/png": "[encoded data removed]",
      "text/plain": [
       "<Figure size 600x600 with 2 Axes>"
      ]
     },
     "metadata": {},
     "output_type": "display_data"
    }
   ],
   "source": [
    "def plot_confusion_matrix(true_labels, pred_labels, class_names):\n",
    "    \n",
    "    cm = confusion_matrix(true_labels, pred_labels)\n",
    "\n",
    "    plt.figure(figsize=(6, 6))\n",
    "    sns.heatmap(cm, annot=True, fmt=\"d\", cmap=\"Blues\", xticklabels=class_names, yticklabels=class_names)\n",
    "    \n",
    "    plt.title(\"Confusion Matrix\", fontsize=16)\n",
    "    plt.xlabel(\"Predicted Labels\", fontsize=12)\n",
    "    plt.ylabel(\"True Labels\", fontsize=12)\n",
    "    plt.tight_layout()\n",
    "    plt.show()\n",
    "    \n",
    "# -------------------------------------------------------------\n",
    "\n",
    "y_val_pred = model.predict(X_val)\n",
    "class_names = list(np.arange(0, 10))\n",
    "pred_labels = np.argmax(y_val_pred, axis=1)  \n",
    "plot_confusion_matrix(np.argmax(Y_val, axis = 1), pred_labels, class_names)"
   ]
  },
  {
   "cell_type": "markdown",
   "id": "09c60a35",
   "metadata": {
    "papermill": {
     "duration": 0.021287,
     "end_time": "2024-10-12T00:45:40.899773",
     "exception": false,
     "start_time": "2024-10-12T00:45:40.878486",
     "status": "completed"
    },
    "tags": []
   },
   "source": [
    "<div style=\"background-color: Green;  padding: 10px; border-radius: 10px; text-align: center;\">\n",
    "  <span style=\"color: white; font-size: 15px; font-weight: bold;\">\n",
    "      Predicting and Submission\n",
    "</div>\n"
   ]
  },
  {
   "cell_type": "code",
   "execution_count": 23,
   "id": "2a5208c1",
   "metadata": {
    "_cell_guid": "05ff3b9f-c3bb-4cec-a8c2-2c128e8f15b3",
    "_execution_state": "idle",
    "_uuid": "7f17e7bf0a54a01a52fef2d554780f6bc6580dc6",
    "execution": {
     "iopub.execute_input": "2024-10-12T00:45:40.943451Z",
     "iopub.status.busy": "2024-10-12T00:45:40.943046Z",
     "iopub.status.idle": "2024-10-12T00:45:43.226896Z",
     "shell.execute_reply": "2024-10-12T00:45:43.225805Z"
    },
    "papermill": {
     "duration": 2.308442,
     "end_time": "2024-10-12T00:45:43.229439",
     "exception": false,
     "start_time": "2024-10-12T00:45:40.920997",
     "status": "completed"
    },
    "tags": []
   },
   "outputs": [
    {
     "name": "stdout",
     "output_type": "stream",
     "text": [
      "\u001b[1m875/875\u001b[0m \u001b[32m━━━━━━━━━━━━━━━━━━━━\u001b[0m\u001b[37m\u001b[0m \u001b[1m1s\u001b[0m 2ms/step\n"
     ]
    },
    {
     "data": {
      "text/plain": [
       "(28000,)"
      ]
     },
     "execution_count": 23,
     "metadata": {},
     "output_type": "execute_result"
    }
   ],
   "source": [
    "# predict results\n",
    "results = model.predict(test)\n",
    "results = np.argmax(results,axis = 1)\n",
    "results.shape"
   ]
  },
  {
   "cell_type": "code",
   "execution_count": 24,
   "id": "8c05be93",
   "metadata": {
    "execution": {
     "iopub.execute_input": "2024-10-12T00:45:43.281393Z",
     "iopub.status.busy": "2024-10-12T00:45:43.281012Z",
     "iopub.status.idle": "2024-10-12T00:45:48.143374Z",
     "shell.execute_reply": "2024-10-12T00:45:48.142163Z"
    },
    "papermill": {
     "duration": 4.891183,
     "end_time": "2024-10-12T00:45:48.145793",
     "exception": false,
     "start_time": "2024-10-12T00:45:43.254610",
     "status": "completed"
    },
    "tags": []
   },
   "outputs": [
    {
     "data": {
      "image/png": "[encoded data removed]",
      "text/plain": [
       "<Figure size 2000x2000 with 25 Axes>"
      ]
     },
     "metadata": {},
     "output_type": "display_data"
    }
   ],
   "source": [
    "fig , ax = plt.subplots(5,5, figsize=(20,20))\n",
    "ax = ax.flatten()\n",
    "i=0\n",
    "r_nums = np.random.randint(0,len(test), 25)\n",
    "for n in  r_nums:\n",
    "    ax[i].imshow(test[n] , cmap = 'gray')\n",
    "    ax[i].axis('off')\n",
    "    ax[i].grid(False)\n",
    "    ax[i].set_title(results[n])\n",
    "    i+=1"
   ]
  },
  {
   "cell_type": "code",
   "execution_count": 25,
   "id": "31b2a3ad",
   "metadata": {
    "execution": {
     "iopub.execute_input": "2024-10-12T00:45:48.201558Z",
     "iopub.status.busy": "2024-10-12T00:45:48.200563Z",
     "iopub.status.idle": "2024-10-12T00:45:48.231861Z",
     "shell.execute_reply": "2024-10-12T00:45:48.230683Z"
    },
    "papermill": {
     "duration": 0.061582,
     "end_time": "2024-10-12T00:45:48.234333",
     "exception": false,
     "start_time": "2024-10-12T00:45:48.172751",
     "status": "completed"
    },
    "tags": []
   },
   "outputs": [
    {
     "data": {
      "text/html": [
       "<div>\n",
       "<style scoped>\n",
       "    .dataframe tbody tr th:only-of-type {\n",
       "        vertical-align: middle;\n",
       "    }\n",
       "\n",
       "    .dataframe tbody tr th {\n",
       "        vertical-align: top;\n",
       "    }\n",
       "\n",
       "    .dataframe thead th {\n",
       "        text-align: right;\n",
       "    }\n",
       "</style>\n",
       "<table border=\"1\" class=\"dataframe\">\n",
       "  <thead>\n",
       "    <tr style=\"text-align: right;\">\n",
       "      <th></th>\n",
       "      <th>ImageId</th>\n",
       "      <th>Label</th>\n",
       "    </tr>\n",
       "  </thead>\n",
       "  <tbody>\n",
       "    <tr>\n",
       "      <th>0</th>\n",
       "      <td>1</td>\n",
       "      <td>2</td>\n",
       "    </tr>\n",
       "    <tr>\n",
       "      <th>1</th>\n",
       "      <td>2</td>\n",
       "      <td>0</td>\n",
       "    </tr>\n",
       "    <tr>\n",
       "      <th>2</th>\n",
       "      <td>3</td>\n",
       "      <td>9</td>\n",
       "    </tr>\n",
       "    <tr>\n",
       "      <th>3</th>\n",
       "      <td>4</td>\n",
       "      <td>0</td>\n",
       "    </tr>\n",
       "    <tr>\n",
       "      <th>4</th>\n",
       "      <td>5</td>\n",
       "      <td>3</td>\n",
       "    </tr>\n",
       "    <tr>\n",
       "      <th>...</th>\n",
       "      <td>...</td>\n",
       "      <td>...</td>\n",
       "    </tr>\n",
       "    <tr>\n",
       "      <th>27995</th>\n",
       "      <td>27996</td>\n",
       "      <td>9</td>\n",
       "    </tr>\n",
       "    <tr>\n",
       "      <th>27996</th>\n",
       "      <td>27997</td>\n",
       "      <td>7</td>\n",
       "    </tr>\n",
       "    <tr>\n",
       "      <th>27997</th>\n",
       "      <td>27998</td>\n",
       "      <td>3</td>\n",
       "    </tr>\n",
       "    <tr>\n",
       "      <th>27998</th>\n",
       "      <td>27999</td>\n",
       "      <td>9</td>\n",
       "    </tr>\n",
       "    <tr>\n",
       "      <th>27999</th>\n",
       "      <td>28000</td>\n",
       "      <td>2</td>\n",
       "    </tr>\n",
       "  </tbody>\n",
       "</table>\n",
       "<p>28000 rows × 2 columns</p>\n",
       "</div>"
      ],
      "text/plain": [
       "       ImageId  Label\n",
       "0            1      2\n",
       "1            2      0\n",
       "2            3      9\n",
       "3            4      0\n",
       "4            5      3\n",
       "...        ...    ...\n",
       "27995    27996      9\n",
       "27996    27997      7\n",
       "27997    27998      3\n",
       "27998    27999      9\n",
       "27999    28000      2\n",
       "\n",
       "[28000 rows x 2 columns]"
      ]
     },
     "execution_count": 25,
     "metadata": {},
     "output_type": "execute_result"
    }
   ],
   "source": [
    "submission = pd.read_csv('/kaggle/input/digit-recognizer/sample_submission.csv')\n",
    "submission['Label'] = results\n",
    "submission"
   ]
  },
  {
   "cell_type": "code",
   "execution_count": 26,
   "id": "804decd1",
   "metadata": {
    "_cell_guid": "b5f1f39f-13b8-439a-8913-0f120e3d47a9",
    "_execution_state": "idle",
    "_uuid": "369dfaab09240f3f12bcff91953ffd315ab84985",
    "execution": {
     "iopub.execute_input": "2024-10-12T00:45:48.291151Z",
     "iopub.status.busy": "2024-10-12T00:45:48.290386Z",
     "iopub.status.idle": "2024-10-12T00:45:48.334676Z",
     "shell.execute_reply": "2024-10-12T00:45:48.333743Z"
    },
    "papermill": {
     "duration": 0.076109,
     "end_time": "2024-10-12T00:45:48.337649",
     "exception": false,
     "start_time": "2024-10-12T00:45:48.261540",
     "status": "completed"
    },
    "tags": []
   },
   "outputs": [],
   "source": [
    "submission.to_csv(\"/kaggle/working/submission.csv\",index=False)"
   ]
  },
  {
   "cell_type": "code",
   "execution_count": 27,
   "id": "95046959",
   "metadata": {
    "execution": {
     "iopub.execute_input": "2024-10-12T00:45:48.393666Z",
     "iopub.status.busy": "2024-10-12T00:45:48.392661Z",
     "iopub.status.idle": "2024-10-12T00:45:48.480954Z",
     "shell.execute_reply": "2024-10-12T00:45:48.479823Z"
    },
    "papermill": {
     "duration": 0.11991,
     "end_time": "2024-10-12T00:45:48.483773",
     "exception": false,
     "start_time": "2024-10-12T00:45:48.363863",
     "status": "completed"
    },
    "tags": []
   },
   "outputs": [],
   "source": [
    "model.save('model.h5')"
   ]
  }
 ],
 "metadata": {
  "kaggle": {
   "accelerator": "gpu",
   "dataSources": [
    {
     "databundleVersionId": 861823,
     "sourceId": 3004,
     "sourceType": "competition"
    }
   ],
   "dockerImageVersionId": 30788,
   "isGpuEnabled": true,
   "isInternetEnabled": true,
   "language": "python",
   "sourceType": "notebook"
  },
  "kernelspec": {
   "display_name": "Python 3",
   "language": "python",
   "name": "python3"
  },
  "language_info": {
   "codemirror_mode": {
    "name": "ipython",
    "version": 3
   },
   "file_extension": ".py",
   "mimetype": "text/x-python",
   "name": "python",
   "nbconvert_exporter": "python",
   "pygments_lexer": "ipython3",
   "version": "3.10.14"
  },
  "papermill": {
   "default_parameters": {},
   "duration": 154.897129,
   "end_time": "2024-10-12T00:45:51.881773",
   "environment_variables": {},
   "exception": null,
   "input_path": "__notebook__.ipynb",
   "output_path": "__notebook__.ipynb",
   "parameters": {},
   "start_time": "2024-10-12T00:43:16.984644",
   "version": "2.6.0"
  }
 },
 "nbformat": 4,
 "nbformat_minor": 5
}
